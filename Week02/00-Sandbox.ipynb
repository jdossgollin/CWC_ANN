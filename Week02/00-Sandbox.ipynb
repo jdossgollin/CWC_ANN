{
 "cells": [
  {
   "cell_type": "markdown",
   "metadata": {},
   "source": [
    "# Sandbox\n",
    "\n",
    "Use this space to play around with keras models and the MNIST training data!"
   ]
  },
  {
   "cell_type": "code",
   "execution_count": 1,
   "metadata": {},
   "outputs": [
    {
     "name": "stderr",
     "output_type": "stream",
     "text": [
      "Using TensorFlow backend.\n"
     ]
    }
   ],
   "source": [
    "import numpy as np\n",
    "import keras\n",
    "from keras.datasets import mnist # load up the training data!\n",
    "from keras.models import Sequential # our model\n",
    "from keras.layers import Dense, Dropout, Flatten # layers we've seen\n",
    "from keras.layers import Conv2D, MaxPooling2D # new layers\n",
    "from keras import backend as K # see later"
   ]
  },
  {
   "cell_type": "markdown",
   "metadata": {},
   "source": [
    "Specify some parameters"
   ]
  },
  {
   "cell_type": "code",
   "execution_count": 2,
   "metadata": {},
   "outputs": [],
   "source": [
    "batch_size = 128\n",
    "num_classes = 10\n",
    "epochs = 10 "
   ]
  },
  {
   "cell_type": "markdown",
   "metadata": {},
   "source": [
    "Load in training data.\n",
    "If you want to do a convolutional layer you'll need to reshape data like in `03-MNIST_CNN.ipynb`!"
   ]
  },
  {
   "cell_type": "code",
   "execution_count": 3,
   "metadata": {},
   "outputs": [
    {
     "name": "stdout",
     "output_type": "stream",
     "text": [
      "(60000, 784)\n",
      "(60000,)\n",
      "(10000, 784)\n",
      "(10000,)\n"
     ]
    }
   ],
   "source": [
    "(x_train, y_train), (x_test, y_test) = mnist.load_data()\n",
    "x_train = x_train.reshape(60000, 784)\n",
    "x_test = x_test.reshape(10000, 784)\n",
    "x_train = x_train.astype('float32')\n",
    "x_test = x_test.astype('float32')\n",
    "x_train /= 255\n",
    "x_test /= 255\n",
    "print(x_train.shape)\n",
    "print(y_train.shape)\n",
    "print(x_test.shape)\n",
    "print(y_test.shape)\n",
    "y_train = keras.utils.to_categorical(y_train, num_classes)\n",
    "y_test = keras.utils.to_categorical(y_test, num_classes)"
   ]
  },
  {
   "cell_type": "markdown",
   "metadata": {},
   "source": [
    "## Build Model\n",
    "\n",
    "This code defines a very simple model -- add more layers!"
   ]
  },
  {
   "cell_type": "code",
   "execution_count": 4,
   "metadata": {},
   "outputs": [],
   "source": [
    "model = Sequential()\n",
    "model.add(Dense(512, activation='relu', input_shape=(784,)))\n",
    "model.add(Dropout(0.2))\n",
    "model.add(Dense(10, activation='softmax')) # remember y has 10 categories!"
   ]
  },
  {
   "cell_type": "markdown",
   "metadata": {},
   "source": [
    "## Compile Model\n",
    "\n",
    "Try playing around with different optimizers, loss functions, and more"
   ]
  },
  {
   "cell_type": "code",
   "execution_count": 5,
   "metadata": {},
   "outputs": [],
   "source": [
    "model.compile(loss=keras.losses.categorical_crossentropy,\n",
    "              optimizer=keras.optimizers.Adadelta(),\n",
    "metrics=['accuracy'])"
   ]
  },
  {
   "cell_type": "markdown",
   "metadata": {},
   "source": [
    "## Model Fit\n",
    "\n",
    "Try playing with batch size and epochs"
   ]
  },
  {
   "cell_type": "code",
   "execution_count": 6,
   "metadata": {},
   "outputs": [
    {
     "name": "stdout",
     "output_type": "stream",
     "text": [
      "Train on 60000 samples, validate on 10000 samples\n",
      "Epoch 1/10\n",
      "60000/60000 [==============================] - 7s - loss: 0.4134 - acc: 0.8880 - val_loss: 0.2213 - val_acc: 0.9394\n",
      "Epoch 2/10\n",
      "60000/60000 [==============================] - 6s - loss: 0.2088 - acc: 0.9409 - val_loss: 0.1717 - val_acc: 0.9505\n",
      "Epoch 3/10\n",
      "60000/60000 [==============================] - 6s - loss: 0.1588 - acc: 0.9553 - val_loss: 0.1338 - val_acc: 0.9623\n",
      "Epoch 4/10\n",
      "60000/60000 [==============================] - 7s - loss: 0.1302 - acc: 0.9629 - val_loss: 0.1129 - val_acc: 0.9671\n",
      "Epoch 5/10\n",
      "60000/60000 [==============================] - 6s - loss: 0.1113 - acc: 0.9690 - val_loss: 0.1041 - val_acc: 0.9696\n",
      "Epoch 6/10\n",
      "60000/60000 [==============================] - 7s - loss: 0.0970 - acc: 0.9720 - val_loss: 0.0936 - val_acc: 0.9724\n",
      "Epoch 7/10\n",
      "60000/60000 [==============================] - 6s - loss: 0.0859 - acc: 0.9760 - val_loss: 0.0874 - val_acc: 0.9742\n",
      "Epoch 8/10\n",
      "60000/60000 [==============================] - 7s - loss: 0.0775 - acc: 0.9778 - val_loss: 0.0836 - val_acc: 0.9753\n",
      "Epoch 9/10\n",
      "60000/60000 [==============================] - 7s - loss: 0.0699 - acc: 0.9801 - val_loss: 0.0765 - val_acc: 0.9770\n",
      "Epoch 10/10\n",
      "60000/60000 [==============================] - 7s - loss: 0.0636 - acc: 0.9818 - val_loss: 0.0750 - val_acc: 0.9770\n"
     ]
    }
   ],
   "source": [
    "history = model.fit(x_train, y_train,\n",
    "                    batch_size=batch_size,\n",
    "                    epochs=epochs,\n",
    "                    verbose=1,\n",
    "                    validation_data=(x_test, y_test))"
   ]
  },
  {
   "cell_type": "markdown",
   "metadata": {},
   "source": [
    "## Summarize Model"
   ]
  },
  {
   "cell_type": "code",
   "execution_count": 7,
   "metadata": {},
   "outputs": [
    {
     "name": "stdout",
     "output_type": "stream",
     "text": [
      "_________________________________________________________________\n",
      "Layer (type)                 Output Shape              Param #   \n",
      "=================================================================\n",
      "dense_1 (Dense)              (None, 512)               401920    \n",
      "_________________________________________________________________\n",
      "dropout_1 (Dropout)          (None, 512)               0         \n",
      "_________________________________________________________________\n",
      "dense_2 (Dense)              (None, 10)                5130      \n",
      "=================================================================\n",
      "Total params: 407,050\n",
      "Trainable params: 407,050\n",
      "Non-trainable params: 0\n",
      "_________________________________________________________________\n"
     ]
    }
   ],
   "source": [
    "model.summary()"
   ]
  }
 ],
 "metadata": {
  "kernelspec": {
   "display_name": "Python 3",
   "language": "python",
   "name": "python3"
  },
  "language_info": {
   "codemirror_mode": {
    "name": "ipython",
    "version": 3
   },
   "file_extension": ".py",
   "mimetype": "text/x-python",
   "name": "python",
   "nbconvert_exporter": "python",
   "pygments_lexer": "ipython3",
   "version": "3.6.2"
  }
 },
 "nbformat": 4,
 "nbformat_minor": 2
}
